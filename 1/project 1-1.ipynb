{
 "cells": [
  {
   "cell_type": "code",
   "execution_count": 69,
   "id": "ed687930-5359-482a-80d8-f902b6a7f3af",
   "metadata": {},
   "outputs": [],
   "source": [
    "import psycopg2\n",
    "import pandas as pd"
   ]
  },
  {
   "cell_type": "code",
   "execution_count": 70,
   "id": "6bea07d0-af73-4442-a9bf-6611a00b37f5",
   "metadata": {},
   "outputs": [],
   "source": [
    "conn = psycopg2.connect(database=\"neo_bank_1\", user=\"neoflex_user\",\n",
    "    password=\"neoflex_user\", host=\"localhost\", port=5432)"
   ]
  },
  {
   "cell_type": "code",
   "execution_count": 77,
   "id": "8f71d3e8-e9f8-45a9-9d61-25bfd54d1505",
   "metadata": {},
   "outputs": [],
   "source": [
    "''' Parse ft_balance_f.csv and push to neo_bank_1  '''\n",
    "def push_ft_balance_f():\n",
    "    df = pd.read_csv(\n",
    "        filepath_or_buffer='../../../src/1/1/ft_balance_f.csv', \n",
    "        header='infer', \n",
    "        sep=';',\n",
    "        usecols=range(1,5),\n",
    "        parse_dates=['ON_DATE'],\n",
    "        dayfirst=True\n",
    "    )\n",
    "    df.columns= df.columns.str.lower()\n",
    "    \n",
    "    insert_query = '''\n",
    "        INSERT INTO ds.ft_balance_f (on_date, account_rk, currency_rk, balance_out) \n",
    "        VALUES %s\n",
    "        ON CONFLICT (on_date, account_rk)  DO UPDATE \n",
    "            SET on_date = EXCLUDED.on_date, \n",
    "                account_rk = EXCLUDED.account_rk,\n",
    "                currency_rk = EXCLUDED.currency_rk,\n",
    "                balance_out = EXCLUDED.balance_out\n",
    "    '''\n",
    "    with conn:\n",
    "        psycopg2.extras.execute_values (conn.cursor(), insert_query, df.values.tolist())"
   ]
  },
  {
   "cell_type": "code",
   "execution_count": 78,
   "id": "7dd7b04a-f00b-488b-81a1-897ccee7ced6",
   "metadata": {},
   "outputs": [],
   "source": [
    "push_ft_balance_f()"
   ]
  },
  {
   "cell_type": "code",
   "execution_count": null,
   "id": "2b9269c2-33f4-4234-b29f-f3b877c266e3",
   "metadata": {},
   "outputs": [],
   "source": []
  }
 ],
 "metadata": {
  "kernelspec": {
   "display_name": "Python 3 (ipykernel)",
   "language": "python",
   "name": "python3"
  },
  "language_info": {
   "codemirror_mode": {
    "name": "ipython",
    "version": 3
   },
   "file_extension": ".py",
   "mimetype": "text/x-python",
   "name": "python",
   "nbconvert_exporter": "python",
   "pygments_lexer": "ipython3",
   "version": "3.10.6"
  }
 },
 "nbformat": 4,
 "nbformat_minor": 5
}
